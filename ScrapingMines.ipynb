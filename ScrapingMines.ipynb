{
 "cells": [
  {
   "cell_type": "markdown",
   "metadata": {},
   "source": [
    "# Mine Safety\n",
    "\n",
    "We're interested in [US mine safety](https://arlweb.msha.gov/drs/drshome.htm#MID), thank goodness we can search for these things."
   ]
  },
  {
   "cell_type": "markdown",
   "metadata": {},
   "source": [
    "## Preparation: Knowing your tags\n",
    "\n",
    "These questions are the same for every data set, and might not work exactly for yours.\n",
    "\n",
    "**Search for every operator with 'dirt' in their name, including abandoned mines.**"
   ]
  },
  {
   "cell_type": "markdown",
   "metadata": {},
   "source": [
    "### What is the tag and class name for every row of data?"
   ]
  },
  {
   "cell_type": "code",
   "execution_count": 15,
   "metadata": {
    "collapsed": true
   },
   "outputs": [],
   "source": [
    "tr"
   ]
  },
  {
   "cell_type": "markdown",
   "metadata": {},
   "source": [
    "### What is the tag and class name for every mine operator's name?"
   ]
  },
  {
   "cell_type": "code",
   "execution_count": 12,
   "metadata": {},
   "outputs": [
    {
     "ename": "NameError",
     "evalue": "name 'td' is not defined",
     "output_type": "error",
     "traceback": [
      "\u001b[0;31m---------------------------------------------------------------------------\u001b[0m",
      "\u001b[0;31mNameError\u001b[0m                                 Traceback (most recent call last)",
      "\u001b[0;32m<ipython-input-12-f9c6c34b6e26>\u001b[0m in \u001b[0;36m<module>\u001b[0;34m()\u001b[0m\n\u001b[0;32m----> 1\u001b[0;31m \u001b[0mtd\u001b[0m\u001b[0;34m\u001b[0m\u001b[0m\n\u001b[0m",
      "\u001b[0;31mNameError\u001b[0m: name 'td' is not defined"
     ]
    }
   ],
   "source": [
    "td"
   ]
  },
  {
   "cell_type": "markdown",
   "metadata": {},
   "source": [
    "### What is the tag and class name for every mine's name?"
   ]
  },
  {
   "cell_type": "code",
   "execution_count": null,
   "metadata": {
    "collapsed": true
   },
   "outputs": [],
   "source": [
    "td"
   ]
  },
  {
   "cell_type": "markdown",
   "metadata": {},
   "source": [
    "## Being lazy\n",
    "\n",
    "If you only needed these results, what would you do instead of scraping them?"
   ]
  },
  {
   "cell_type": "code",
   "execution_count": null,
   "metadata": {
    "collapsed": true
   },
   "outputs": [],
   "source": [
    "look at them!"
   ]
  },
  {
   "cell_type": "markdown",
   "metadata": {},
   "source": [
    "## Setup: Import what you'll need to scrape the page\n",
    "\n",
    "Use `requests`, not `urllib`."
   ]
  },
  {
   "cell_type": "code",
   "execution_count": 25,
   "metadata": {
    "collapsed": true
   },
   "outputs": [],
   "source": [
    "import requests\n",
    "from bs4 import BeautifulSoup\n"
   ]
  },
  {
   "cell_type": "code",
   "execution_count": 23,
   "metadata": {
    "collapsed": true
   },
   "outputs": [],
   "source": [
    "data= {\n",
    "    'OperSearch':'dirt',\n",
    "    'Abandoned':'No',\n",
    "    'MineName':'',\n",
    "    'StateSearch':'None',\n",
    "    'CM':'All',\n",
    "    'x':28,\n",
    "    'y':4,\n",
    "    'MC':'Opersearch'\n",
    "      }"
   ]
  },
  {
   "cell_type": "code",
   "execution_count": 24,
   "metadata": {
    "collapsed": true
   },
   "outputs": [],
   "source": [
    "response= requests.post('https://arlweb.msha.gov/drs/ASP/OprNameStatesearch.asp', data= data)\n",
    "doc= BeautifulSoup(response.text, 'html.parser')"
   ]
  },
  {
   "cell_type": "markdown",
   "metadata": {},
   "source": [
    "## Try to scrape the page\n",
    "\n",
    "To test if you requested the page correctly, save the BeautifulSoup document as `doc` and run the code `doc.find_all('tr')[-1].text` to get the text of the last `<tr>` element.\n",
    "\n",
    "- If the result starts with **Total Number of Mines Found**, you were successful."
   ]
  },
  {
   "cell_type": "code",
   "execution_count": 26,
   "metadata": {},
   "outputs": [
    {
     "data": {
      "text/plain": [
       "'\\nTotal Number of Mines Found:\\xa0\\xa019'"
      ]
     },
     "execution_count": 26,
     "metadata": {},
     "output_type": "execute_result"
    }
   ],
   "source": [
    "doc.find_all('tr')[-1].text"
   ]
  },
  {
   "cell_type": "markdown",
   "metadata": {},
   "source": [
    "## Actually scraping"
   ]
  },
  {
   "cell_type": "markdown",
   "metadata": {},
   "source": [
    "### Hopefully you know that each `tr` is supposed to be your data. What is the index of the first row element that is actually a result?\n",
    "\n",
    "`.text` will help you here."
   ]
  },
  {
   "cell_type": "code",
   "execution_count": 42,
   "metadata": {},
   "outputs": [
    {
     "data": {
      "text/plain": [
       "'\\n\\nOperator Name or Mine Name Search\\n\\xa0'"
      ]
     },
     "execution_count": 42,
     "metadata": {},
     "output_type": "execute_result"
    }
   ],
   "source": [
    "doc.find_all('tr')[0].text"
   ]
  },
  {
   "cell_type": "code",
   "execution_count": null,
   "metadata": {
    "collapsed": true
   },
   "outputs": [],
   "source": []
  },
  {
   "cell_type": "markdown",
   "metadata": {},
   "source": [
    "### Loop through each operator result, printing its name\n",
    "\n",
    "Use LIST SLICING to skip the non-data row(s)."
   ]
  },
  {
   "cell_type": "code",
   "execution_count": 63,
   "metadata": {},
   "outputs": [
    {
     "name": "stdout",
     "output_type": "stream",
     "text": [
      " Newberg Rock & Dirt  \n",
      "AM Dirtworks & Aggregate Sales  \n",
      "Dirt Company  \n",
      "Dirt Con  \n",
      "Dirt Doctor Inc  \n",
      "Dirt Works  \n",
      "Holley Dirt Company, Inc  \n",
      "Krueger Brothers Gravel & Dirt  \n",
      "M R Dirt  \n",
      "M.R. Dirt Inc.  \n",
      "P B Dirt Movers, Inc  \n",
      "PB Dirt Movers  \n",
      "PB Dirt Movers, Inc  \n",
      "Prescott Dirt, LLC  \n",
      "R D Blankenship Dirt Work LLC  \n",
      "SIMPSON DIRTWORX LLC  \n",
      "SIMPSON DIRTWORX LLC  \n",
      "Spry's Dirt & Gravel, Inc.  \n",
      "Vogt Dirt Service  \n"
     ]
    }
   ],
   "source": [
    "#body= doc.find('body)\n",
    "#body\n",
    "\n",
    "rows= doc.find_all('tr')\n",
    "for item in rows[7:26]:\n",
    "    operator = item.find_all('td')[2]\n",
    "    print(operator.text)\n",
    "#doc.find_all('tr')[0].find_all('td')[2]"
   ]
  },
  {
   "cell_type": "code",
   "execution_count": 57,
   "metadata": {},
   "outputs": [
    {
     "data": {
      "text/plain": [
       "[<tr>\n",
       " <td width=\"30%\"><a href=\"/drs/drshome.htm\"><img alt=\"Mine Data Retrieval System\" border=\"0\" height=\"75\" src=\"/drs/images/drslogo.png\" width=\"300\"/></a></td>\n",
       " <th width=\"40%\"><font style=\"FONT-SIZE:1.20em;\">Operator Name or Mine Name<br/> Search</font></th>\n",
       " <td width=\"30%\"> </td></tr>, <tr>\n",
       " <td valign=\"top\" width=\"50%\">\n",
       " <table width=\"100%\">\n",
       " <tr>\n",
       " <td><font style=\"FONT-SIZE:.80em;\"><b>Abandoned*</b></font></td></tr>\n",
       " <tr>\n",
       " <td valign=\"top\" width=\"95%\"><font style=\"FONT-SIZE:.75em;\">Indicates Mine is Abandoned and Sealed</font></td></tr></table></td>\n",
       " <td align=\"right\" valign=\"top\" width=\"50%\">\n",
       " <table align=\"right\" width=\"100%\">\n",
       " <tr>\n",
       " <td align=\"right\" colspan=\"2\"><font style=\"FONT-SIZE:.80em;\"><b>*CM (Coal or Metal Mine/Nonmetal Mine)</b></font></td></tr>\n",
       " <tr>\n",
       " <td align=\"right\" width=\"46%\"><font style=\"FONT-SIZE:.80em;\">C<br/>M</font></td>\n",
       " <td width=\"54%\"><font style=\"FONT-SIZE:.80em;\">...... Coal<br/>...... Metal/Nonmetal</font></td></tr>\n",
       " </table></td></tr>, <tr>\n",
       " <td><font style=\"FONT-SIZE:.80em;\"><b>Abandoned*</b></font></td></tr>, <tr>\n",
       " <td valign=\"top\" width=\"95%\"><font style=\"FONT-SIZE:.75em;\">Indicates Mine is Abandoned and Sealed</font></td></tr>, <tr>\n",
       " <td align=\"right\" colspan=\"2\"><font style=\"FONT-SIZE:.80em;\"><b>*CM (Coal or Metal Mine/Nonmetal Mine)</b></font></td></tr>, <tr>\n",
       " <td align=\"right\" width=\"46%\"><font style=\"FONT-SIZE:.80em;\">C<br/>M</font></td>\n",
       " <td width=\"54%\"><font style=\"FONT-SIZE:.80em;\">...... Coal<br/>...... Metal/Nonmetal</font></td></tr>, <tr>\n",
       " <th bgcolor=\"#D7D7D6\" width=\"10%\"><font style=\"FONT-SIZE:.75em;\">ID</font></th>\n",
       " <th bgcolor=\"#D7D7D6\" width=\"5%\"><font style=\"FONT-SIZE:.75em;\">State</font></th>\n",
       " <th bgcolor=\"#D7D7D6\" width=\"20%\"><font style=\"FONT-SIZE:.75em;\">Operator</font></th>\n",
       " <th bgcolor=\"#D7D7D6\" width=\"20%\"><font style=\"FONT-SIZE:.75em;\">Mine Name</font></th>\n",
       " <th bgcolor=\"#D7D7D6\" width=\"5%\"><font style=\"FONT-SIZE:.75em;\">Type</font></th>\n",
       " <th bgcolor=\"#D7D7D6\" width=\"5%\"><font style=\"FONT-SIZE:.75em;\">CM*</font></th>\n",
       " <th bgcolor=\"#D7D7D6\" width=\"5%\"><font style=\"FONT-SIZE:.75em;\">Status</font></th>\n",
       " <th bgcolor=\"#D7D7D6\" width=\"20%\"><font style=\"FONT-SIZE:.75em;\">Commodity</font></th>\n",
       " <th bgcolor=\"#D7D7D6\" width=\"10%\"><font style=\"FONT-SIZE:.75em;\">More Info</font></th></tr>, <tr>\n",
       " <td align=\"center\">\n",
       " <form action=\"/drs/ASP/BasicMineInfostatecounty.asp\" method=\"post\" name=\"search\">\n",
       " <input name=\"MineId\" type=\"hidden\" value=\"3503598\"/><font style=\"FONT-SIZE:.75em;\">3503598</font>\n",
       " </form></td>\n",
       " <td><font style=\"FONT-SIZE:.75em;\"><!-- DNT --><b>OR</b><!-- /DNT --> </font></td>\n",
       " <td><font style=\"FONT-SIZE:.75em;\"><!-- DNT --> Newberg Rock &amp; Dirt<!-- /DNT -->  </font></td>\n",
       " <td><font style=\"FONT-SIZE:.75em;\"><!-- DNT -->Newberg Rock &amp; Dirt<!-- /DNT --></font></td>\n",
       " <td align=\"center\"><font style=\"FONT-SIZE:.75em;\"><!-- DNT -->Surface             <!-- /DNT --></font></td>\n",
       " <td align=\"center\"><font style=\"FONT-SIZE:.75em;\"><!-- DNT -->M<!-- /DNT --> </font></td>\n",
       " <td><font style=\"FONT-SIZE:.75em;\">Active  </font></td>\n",
       " <td><font style=\"FONT-SIZE:.75em;\">Crushed, Broken Stone NEC  </font></td>\n",
       " <th bgcolor=\"#000000\"><input alt=\"More Information\" border=\"0\" name=\"submit\" src=\"/drs/images/moreinfo.jpg\" type=\"image\"/></th></tr>, <tr>\n",
       " <td align=\"center\">\n",
       " <form action=\"/drs/ASP/BasicMineInfostatecounty.asp\" method=\"post\" name=\"search\">\n",
       " <input name=\"MineId\" type=\"hidden\" value=\"4801789\"/><font style=\"FONT-SIZE:.75em;\">4801789</font>\n",
       " </form></td>\n",
       " <td><font style=\"FONT-SIZE:.75em;\"><!-- DNT --><b>ND</b><!-- /DNT --> </font></td>\n",
       " <td><font style=\"FONT-SIZE:.75em;\"><!-- DNT -->AM Dirtworks &amp; Aggregate Sales<!-- /DNT -->  </font></td>\n",
       " <td><font style=\"FONT-SIZE:.75em;\"><!-- DNT -->AM Dirtworks &amp; Aggregate Sales<!-- /DNT --></font></td>\n",
       " <td align=\"center\"><font style=\"FONT-SIZE:.75em;\"><!-- DNT -->Surface             <!-- /DNT --></font></td>\n",
       " <td align=\"center\"><font style=\"FONT-SIZE:.75em;\"><!-- DNT -->M<!-- /DNT --> </font></td>\n",
       " <td><font style=\"FONT-SIZE:.75em;\">Intermittent  </font></td>\n",
       " <td><font style=\"FONT-SIZE:.75em;\">Construction Sand and Gravel  </font></td>\n",
       " <th bgcolor=\"#000000\"><input alt=\"More Information\" border=\"0\" name=\"submit\" src=\"/drs/images/moreinfo.jpg\" type=\"image\"/></th></tr>, <tr>\n",
       " <td align=\"center\">\n",
       " <form action=\"/drs/ASP/BasicMineInfostatecounty.asp\" method=\"post\" name=\"search\">\n",
       " <input name=\"MineId\" type=\"hidden\" value=\"5001797\"/><font style=\"FONT-SIZE:.75em;\">5001797</font>\n",
       " </form></td>\n",
       " <td><font style=\"FONT-SIZE:.75em;\"><!-- DNT --><b>AK</b><!-- /DNT --> </font></td>\n",
       " <td><font style=\"FONT-SIZE:.75em;\"><!-- DNT -->Dirt Company<!-- /DNT -->  </font></td>\n",
       " <td><font style=\"FONT-SIZE:.75em;\"><!-- DNT -->Bush Pilot<!-- /DNT --></font></td>\n",
       " <td align=\"center\"><font style=\"FONT-SIZE:.75em;\"><!-- DNT -->Surface             <!-- /DNT --></font></td>\n",
       " <td align=\"center\"><font style=\"FONT-SIZE:.75em;\"><!-- DNT -->M<!-- /DNT --> </font></td>\n",
       " <td><font style=\"FONT-SIZE:.75em;\">Intermittent  </font></td>\n",
       " <td><font style=\"FONT-SIZE:.75em;\">Construction Sand and Gravel  </font></td>\n",
       " <th bgcolor=\"#000000\"><input alt=\"More Information\" border=\"0\" name=\"submit\" src=\"/drs/images/moreinfo.jpg\" type=\"image\"/></th></tr>, <tr>\n",
       " <td align=\"center\">\n",
       " <form action=\"/drs/ASP/BasicMineInfostatecounty.asp\" method=\"post\" name=\"search\">\n",
       " <input name=\"MineId\" type=\"hidden\" value=\"4608254\"/><font style=\"FONT-SIZE:.75em;\">4608254</font>\n",
       " </form></td>\n",
       " <td><font style=\"FONT-SIZE:.75em;\"><!-- DNT --><b>WV</b><!-- /DNT --> </font></td>\n",
       " <td><font style=\"FONT-SIZE:.75em;\"><!-- DNT -->Dirt Con<!-- /DNT -->  </font></td>\n",
       " <td><font style=\"FONT-SIZE:.75em;\"><!-- DNT -->Hog Lick Quarry<!-- /DNT --></font></td>\n",
       " <td align=\"center\"><font style=\"FONT-SIZE:.75em;\"><!-- DNT -->Surface             <!-- /DNT --></font></td>\n",
       " <td align=\"center\"><font style=\"FONT-SIZE:.75em;\"><!-- DNT -->M<!-- /DNT --> </font></td>\n",
       " <td><font style=\"FONT-SIZE:.75em;\">Temporarily Idled  </font></td>\n",
       " <td><font style=\"FONT-SIZE:.75em;\">Crushed, Broken Limestone NEC  </font></td>\n",
       " <th bgcolor=\"#000000\"><input alt=\"More Information\" border=\"0\" name=\"submit\" src=\"/drs/images/moreinfo.jpg\" type=\"image\"/></th></tr>, <tr>\n",
       " <td align=\"center\">\n",
       " <form action=\"/drs/ASP/BasicMineInfostatecounty.asp\" method=\"post\" name=\"search\">\n",
       " <input name=\"MineId\" type=\"hidden\" value=\"2103723\"/><font style=\"FONT-SIZE:.75em;\">2103723</font>\n",
       " </form></td>\n",
       " <td><font style=\"FONT-SIZE:.75em;\"><!-- DNT --><b>MN</b><!-- /DNT --> </font></td>\n",
       " <td><font style=\"FONT-SIZE:.75em;\"><!-- DNT -->Dirt Doctor Inc<!-- /DNT -->  </font></td>\n",
       " <td><font style=\"FONT-SIZE:.75em;\"><!-- DNT -->Rock Lake Plant<!-- /DNT --></font></td>\n",
       " <td align=\"center\"><font style=\"FONT-SIZE:.75em;\"><!-- DNT -->Surface             <!-- /DNT --></font></td>\n",
       " <td align=\"center\"><font style=\"FONT-SIZE:.75em;\"><!-- DNT -->M<!-- /DNT --> </font></td>\n",
       " <td><font style=\"FONT-SIZE:.75em;\">Intermittent  </font></td>\n",
       " <td><font style=\"FONT-SIZE:.75em;\">Construction Sand and Gravel  </font></td>\n",
       " <th bgcolor=\"#000000\"><input alt=\"More Information\" border=\"0\" name=\"submit\" src=\"/drs/images/moreinfo.jpg\" type=\"image\"/></th></tr>, <tr>\n",
       " <td align=\"center\">\n",
       " <form action=\"/drs/ASP/BasicMineInfostatecounty.asp\" method=\"post\" name=\"search\">\n",
       " <input name=\"MineId\" type=\"hidden\" value=\"4104757\"/><font style=\"FONT-SIZE:.75em;\">4104757</font>\n",
       " </form></td>\n",
       " <td><font style=\"FONT-SIZE:.75em;\"><!-- DNT --><b>TX</b><!-- /DNT --> </font></td>\n",
       " <td><font style=\"FONT-SIZE:.75em;\"><!-- DNT -->Dirt Works<!-- /DNT -->  </font></td>\n",
       " <td><font style=\"FONT-SIZE:.75em;\"><!-- DNT -->Portable #1<!-- /DNT --></font></td>\n",
       " <td align=\"center\"><font style=\"FONT-SIZE:.75em;\"><!-- DNT -->Surface             <!-- /DNT --></font></td>\n",
       " <td align=\"center\"><font style=\"FONT-SIZE:.75em;\"><!-- DNT -->M<!-- /DNT --> </font></td>\n",
       " <td><font style=\"FONT-SIZE:.75em;\">Intermittent  </font></td>\n",
       " <td><font style=\"FONT-SIZE:.75em;\">Construction Sand and Gravel  </font></td>\n",
       " <th bgcolor=\"#000000\"><input alt=\"More Information\" border=\"0\" name=\"submit\" src=\"/drs/images/moreinfo.jpg\" type=\"image\"/></th></tr>, <tr>\n",
       " <td align=\"center\">\n",
       " <form action=\"/drs/ASP/BasicMineInfostatecounty.asp\" method=\"post\" name=\"search\">\n",
       " <input name=\"MineId\" type=\"hidden\" value=\"0801306\"/><font style=\"FONT-SIZE:.75em;\">0801306</font>\n",
       " </form></td>\n",
       " <td><font style=\"FONT-SIZE:.75em;\"><!-- DNT --><b>FL</b><!-- /DNT --> </font></td>\n",
       " <td><font style=\"FONT-SIZE:.75em;\"><!-- DNT -->Holley Dirt Company, Inc<!-- /DNT -->  </font></td>\n",
       " <td><font style=\"FONT-SIZE:.75em;\"><!-- DNT -->River Road Pit<!-- /DNT --></font></td>\n",
       " <td align=\"center\"><font style=\"FONT-SIZE:.75em;\"><!-- DNT -->Surface             <!-- /DNT --></font></td>\n",
       " <td align=\"center\"><font style=\"FONT-SIZE:.75em;\"><!-- DNT -->M<!-- /DNT --> </font></td>\n",
       " <td><font style=\"FONT-SIZE:.75em;\">Active  </font></td>\n",
       " <td><font style=\"FONT-SIZE:.75em;\">Sand, Common  </font></td>\n",
       " <th bgcolor=\"#000000\"><input alt=\"More Information\" border=\"0\" name=\"submit\" src=\"/drs/images/moreinfo.jpg\" type=\"image\"/></th></tr>, <tr>\n",
       " <td align=\"center\">\n",
       " <form action=\"/drs/ASP/BasicMineInfostatecounty.asp\" method=\"post\" name=\"search\">\n",
       " <input name=\"MineId\" type=\"hidden\" value=\"3901432\"/><font style=\"FONT-SIZE:.75em;\">3901432</font>\n",
       " </form></td>\n",
       " <td><font style=\"FONT-SIZE:.75em;\"><!-- DNT --><b>SD</b><!-- /DNT --> </font></td>\n",
       " <td><font style=\"FONT-SIZE:.75em;\"><!-- DNT -->Krueger Brothers Gravel &amp; Dirt<!-- /DNT -->  </font></td>\n",
       " <td><font style=\"FONT-SIZE:.75em;\"><!-- DNT -->PORTABLE SCREENER<!-- /DNT --></font></td>\n",
       " <td align=\"center\"><font style=\"FONT-SIZE:.75em;\"><!-- DNT -->Surface             <!-- /DNT --></font></td>\n",
       " <td align=\"center\"><font style=\"FONT-SIZE:.75em;\"><!-- DNT -->M<!-- /DNT --> </font></td>\n",
       " <td><font style=\"FONT-SIZE:.75em;\">Intermittent  </font></td>\n",
       " <td><font style=\"FONT-SIZE:.75em;\">Construction Sand and Gravel  </font></td>\n",
       " <th bgcolor=\"#000000\"><input alt=\"More Information\" border=\"0\" name=\"submit\" src=\"/drs/images/moreinfo.jpg\" type=\"image\"/></th></tr>, <tr>\n",
       " <td align=\"center\">\n",
       " <form action=\"/drs/ASP/BasicMineInfostatecounty.asp\" method=\"post\" name=\"search\">\n",
       " <input name=\"MineId\" type=\"hidden\" value=\"3609624\"/><font style=\"FONT-SIZE:.75em;\">3609624</font>\n",
       " </form></td>\n",
       " <td><font style=\"FONT-SIZE:.75em;\"><!-- DNT --><b>PA</b><!-- /DNT --> </font></td>\n",
       " <td><font style=\"FONT-SIZE:.75em;\"><!-- DNT -->M R Dirt<!-- /DNT -->  </font></td>\n",
       " <td><font style=\"FONT-SIZE:.75em;\"><!-- DNT -->Forbes Pit<!-- /DNT --></font></td>\n",
       " <td align=\"center\"><font style=\"FONT-SIZE:.75em;\"><!-- DNT -->Surface             <!-- /DNT --></font></td>\n",
       " <td align=\"center\"><font style=\"FONT-SIZE:.75em;\"><!-- DNT -->M<!-- /DNT --> </font></td>\n",
       " <td><font style=\"FONT-SIZE:.75em;\">Intermittent  </font></td>\n",
       " <td><font style=\"FONT-SIZE:.75em;\">Construction Sand and Gravel  </font></td>\n",
       " <th bgcolor=\"#000000\"><input alt=\"More Information\" border=\"0\" name=\"submit\" src=\"/drs/images/moreinfo.jpg\" type=\"image\"/></th></tr>, <tr>\n",
       " <td align=\"center\">\n",
       " <form action=\"/drs/ASP/BasicMineInfostatecounty.asp\" method=\"post\" name=\"search\">\n",
       " <input name=\"MineId\" type=\"hidden\" value=\"3609931\"/><font style=\"FONT-SIZE:.75em;\">3609931</font>\n",
       " </form></td>\n",
       " <td><font style=\"FONT-SIZE:.75em;\"><!-- DNT --><b>PA</b><!-- /DNT --> </font></td>\n",
       " <td><font style=\"FONT-SIZE:.75em;\"><!-- DNT -->M.R. Dirt Inc.<!-- /DNT -->  </font></td>\n",
       " <td><font style=\"FONT-SIZE:.75em;\"><!-- DNT -->Camptown Quarry<!-- /DNT --></font></td>\n",
       " <td align=\"center\"><font style=\"FONT-SIZE:.75em;\"><!-- DNT -->Surface             <!-- /DNT --></font></td>\n",
       " <td align=\"center\"><font style=\"FONT-SIZE:.75em;\"><!-- DNT -->M<!-- /DNT --> </font></td>\n",
       " <td><font style=\"FONT-SIZE:.75em;\">Intermittent  </font></td>\n",
       " <td><font style=\"FONT-SIZE:.75em;\">Dimension Stone NEC  </font></td>\n",
       " <th bgcolor=\"#000000\"><input alt=\"More Information\" border=\"0\" name=\"submit\" src=\"/drs/images/moreinfo.jpg\" type=\"image\"/></th></tr>, <tr>\n",
       " <td align=\"center\">\n",
       " <form action=\"/drs/ASP/BasicMineInfostatecounty.asp\" method=\"post\" name=\"search\">\n",
       " <input name=\"MineId\" type=\"hidden\" value=\"1519799\"/><font style=\"FONT-SIZE:.75em;\">1519799</font>\n",
       " </form></td>\n",
       " <td><font style=\"FONT-SIZE:.75em;\"><!-- DNT --><b>KY</b><!-- /DNT --> </font></td>\n",
       " <td><font style=\"FONT-SIZE:.75em;\"><!-- DNT -->P B Dirt Movers, Inc<!-- /DNT -->  </font></td>\n",
       " <td><font style=\"FONT-SIZE:.75em;\"><!-- DNT -->Fedscreek Surface<!-- /DNT --></font></td>\n",
       " <td align=\"center\"><font style=\"FONT-SIZE:.75em;\"><!-- DNT -->Surface             <!-- /DNT --></font></td>\n",
       " <td align=\"center\"><font style=\"FONT-SIZE:.75em;\"><!-- DNT -->C<!-- /DNT --> </font></td>\n",
       " <td><font style=\"FONT-SIZE:.75em;\">Active  </font></td>\n",
       " <td><font style=\"FONT-SIZE:.75em;\">Coal (Bituminous)  </font></td>\n",
       " <th bgcolor=\"#000000\"><input alt=\"More Information\" border=\"0\" name=\"submit\" src=\"/drs/images/moreinfo.jpg\" type=\"image\"/></th></tr>, <tr>\n",
       " <td align=\"center\">\n",
       " <form action=\"/drs/ASP/BasicMineInfostatecounty.asp\" method=\"post\" name=\"search\">\n",
       " <input name=\"MineId\" type=\"hidden\" value=\"4407296\"/><font style=\"FONT-SIZE:.75em;\">4407296</font>\n",
       " </form></td>\n",
       " <td><font style=\"FONT-SIZE:.75em;\"><!-- DNT --><b>VA</b><!-- /DNT --> </font></td>\n",
       " <td><font style=\"FONT-SIZE:.75em;\"><!-- DNT -->PB Dirt Movers<!-- /DNT -->  </font></td>\n",
       " <td><font style=\"FONT-SIZE:.75em;\"><!-- DNT -->Mine No. 6<!-- /DNT --></font></td>\n",
       " <td align=\"center\"><font style=\"FONT-SIZE:.75em;\"><!-- DNT -->Underground         <!-- /DNT --></font></td>\n",
       " <td align=\"center\"><font style=\"FONT-SIZE:.75em;\"><!-- DNT -->C<!-- /DNT --> </font></td>\n",
       " <td><font style=\"FONT-SIZE:.75em;\">Temporarily Idled  </font></td>\n",
       " <td><font style=\"FONT-SIZE:.75em;\">Coal (Bituminous)  </font></td>\n",
       " <th bgcolor=\"#000000\"><input alt=\"More Information\" border=\"0\" name=\"submit\" src=\"/drs/images/moreinfo.jpg\" type=\"image\"/></th></tr>, <tr>\n",
       " <td align=\"center\">\n",
       " <form action=\"/drs/ASP/BasicMineInfostatecounty.asp\" method=\"post\" name=\"search\">\n",
       " <input name=\"MineId\" type=\"hidden\" value=\"4407270\"/><font style=\"FONT-SIZE:.75em;\">4407270</font>\n",
       " </form></td>\n",
       " <td><font style=\"FONT-SIZE:.75em;\"><!-- DNT --><b>VA</b><!-- /DNT --> </font></td>\n",
       " <td><font style=\"FONT-SIZE:.75em;\"><!-- DNT -->PB Dirt Movers, Inc<!-- /DNT -->  </font></td>\n",
       " <td><font style=\"FONT-SIZE:.75em;\"><!-- DNT -->Surface Mine No. 1<!-- /DNT --></font></td>\n",
       " <td align=\"center\"><font style=\"FONT-SIZE:.75em;\"><!-- DNT -->Surface             <!-- /DNT --></font></td>\n",
       " <td align=\"center\"><font style=\"FONT-SIZE:.75em;\"><!-- DNT -->C<!-- /DNT --> </font></td>\n",
       " <td><font style=\"FONT-SIZE:.75em;\">NonProducing  </font></td>\n",
       " <td><font style=\"FONT-SIZE:.75em;\">Coal (Bituminous)  </font></td>\n",
       " <th bgcolor=\"#000000\"><input alt=\"More Information\" border=\"0\" name=\"submit\" src=\"/drs/images/moreinfo.jpg\" type=\"image\"/></th></tr>, <tr>\n",
       " <td align=\"center\">\n",
       " <form action=\"/drs/ASP/BasicMineInfostatecounty.asp\" method=\"post\" name=\"search\">\n",
       " <input name=\"MineId\" type=\"hidden\" value=\"0203332\"/><font style=\"FONT-SIZE:.75em;\">0203332</font>\n",
       " </form></td>\n",
       " <td><font style=\"FONT-SIZE:.75em;\"><!-- DNT --><b>AZ</b><!-- /DNT --> </font></td>\n",
       " <td><font style=\"FONT-SIZE:.75em;\"><!-- DNT -->Prescott Dirt, LLC<!-- /DNT -->  </font></td>\n",
       " <td><font style=\"FONT-SIZE:.75em;\"><!-- DNT -->Sandretto Drive<!-- /DNT --></font></td>\n",
       " <td align=\"center\"><font style=\"FONT-SIZE:.75em;\"><!-- DNT -->Surface             <!-- /DNT --></font></td>\n",
       " <td align=\"center\"><font style=\"FONT-SIZE:.75em;\"><!-- DNT -->M<!-- /DNT --> </font></td>\n",
       " <td><font style=\"FONT-SIZE:.75em;\">Intermittent  </font></td>\n",
       " <td><font style=\"FONT-SIZE:.75em;\">Construction Sand and Gravel  </font></td>\n",
       " <th bgcolor=\"#000000\"><input alt=\"More Information\" border=\"0\" name=\"submit\" src=\"/drs/images/moreinfo.jpg\" type=\"image\"/></th></tr>, <tr>\n",
       " <td align=\"center\">\n",
       " <form action=\"/drs/ASP/BasicMineInfostatecounty.asp\" method=\"post\" name=\"search\">\n",
       " <input name=\"MineId\" type=\"hidden\" value=\"2901986\"/><font style=\"FONT-SIZE:.75em;\">2901986</font>\n",
       " </form></td>\n",
       " <td><font style=\"FONT-SIZE:.75em;\"><!-- DNT --><b>NM</b><!-- /DNT --> </font></td>\n",
       " <td><font style=\"FONT-SIZE:.75em;\"><!-- DNT -->R D Blankenship Dirt Work LLC<!-- /DNT -->  </font></td>\n",
       " <td><font style=\"FONT-SIZE:.75em;\"><!-- DNT -->R D BLANKENSHIP DIRT WORK<!-- /DNT --></font></td>\n",
       " <td align=\"center\"><font style=\"FONT-SIZE:.75em;\"><!-- DNT -->Surface             <!-- /DNT --></font></td>\n",
       " <td align=\"center\"><font style=\"FONT-SIZE:.75em;\"><!-- DNT -->M<!-- /DNT --> </font></td>\n",
       " <td><font style=\"FONT-SIZE:.75em;\">Active  </font></td>\n",
       " <td><font style=\"FONT-SIZE:.75em;\">Construction Sand and Gravel  </font></td>\n",
       " <th bgcolor=\"#000000\"><input alt=\"More Information\" border=\"0\" name=\"submit\" src=\"/drs/images/moreinfo.jpg\" type=\"image\"/></th></tr>, <tr>\n",
       " <td align=\"center\">\n",
       " <form action=\"/drs/ASP/BasicMineInfostatecounty.asp\" method=\"post\" name=\"search\">\n",
       " <input name=\"MineId\" type=\"hidden\" value=\"4300768\"/><font style=\"FONT-SIZE:.75em;\">4300768</font>\n",
       " </form></td>\n",
       " <td><font style=\"FONT-SIZE:.75em;\"><!-- DNT --><b>VT</b><!-- /DNT --> </font></td>\n",
       " <td><font style=\"FONT-SIZE:.75em;\"><!-- DNT -->SIMPSON DIRTWORX LLC<!-- /DNT -->  </font></td>\n",
       " <td><font style=\"FONT-SIZE:.75em;\"><!-- DNT -->Pettibone Jaw Crusher<!-- /DNT --></font></td>\n",
       " <td align=\"center\"><font style=\"FONT-SIZE:.75em;\"><!-- DNT -->Surface             <!-- /DNT --></font></td>\n",
       " <td align=\"center\"><font style=\"FONT-SIZE:.75em;\"><!-- DNT -->M<!-- /DNT --> </font></td>\n",
       " <td><font style=\"FONT-SIZE:.75em;\">Intermittent  </font></td>\n",
       " <td><font style=\"FONT-SIZE:.75em;\">Construction Sand and Gravel  </font></td>\n",
       " <th bgcolor=\"#000000\"><input alt=\"More Information\" border=\"0\" name=\"submit\" src=\"/drs/images/moreinfo.jpg\" type=\"image\"/></th></tr>, <tr>\n",
       " <td align=\"center\">\n",
       " <form action=\"/drs/ASP/BasicMineInfostatecounty.asp\" method=\"post\" name=\"search\">\n",
       " <input name=\"MineId\" type=\"hidden\" value=\"4300776\"/><font style=\"FONT-SIZE:.75em;\">4300776</font>\n",
       " </form></td>\n",
       " <td><font style=\"FONT-SIZE:.75em;\"><!-- DNT --><b>VT</b><!-- /DNT --> </font></td>\n",
       " <td><font style=\"FONT-SIZE:.75em;\"><!-- DNT -->SIMPSON DIRTWORX LLC<!-- /DNT -->  </font></td>\n",
       " <td><font style=\"FONT-SIZE:.75em;\"><!-- DNT -->Chieftan 1400<!-- /DNT --></font></td>\n",
       " <td align=\"center\"><font style=\"FONT-SIZE:.75em;\"><!-- DNT -->Surface             <!-- /DNT --></font></td>\n",
       " <td align=\"center\"><font style=\"FONT-SIZE:.75em;\"><!-- DNT -->M<!-- /DNT --> </font></td>\n",
       " <td><font style=\"FONT-SIZE:.75em;\">Intermittent  </font></td>\n",
       " <td><font style=\"FONT-SIZE:.75em;\">Construction Sand and Gravel  </font></td>\n",
       " <th bgcolor=\"#000000\"><input alt=\"More Information\" border=\"0\" name=\"submit\" src=\"/drs/images/moreinfo.jpg\" type=\"image\"/></th></tr>, <tr>\n",
       " <td align=\"center\">\n",
       " <form action=\"/drs/ASP/BasicMineInfostatecounty.asp\" method=\"post\" name=\"search\">\n",
       " <input name=\"MineId\" type=\"hidden\" value=\"2302283\"/><font style=\"FONT-SIZE:.75em;\">2302283</font>\n",
       " </form></td>\n",
       " <td><font style=\"FONT-SIZE:.75em;\"><!-- DNT --><b>MO</b><!-- /DNT --> </font></td>\n",
       " <td><font style=\"FONT-SIZE:.75em;\"><!-- DNT -->Spry's Dirt &amp; Gravel, Inc.<!-- /DNT -->  </font></td>\n",
       " <td><font style=\"FONT-SIZE:.75em;\"><!-- DNT -->Mike's Money Pit<!-- /DNT --></font></td>\n",
       " <td align=\"center\"><font style=\"FONT-SIZE:.75em;\"><!-- DNT -->Surface             <!-- /DNT --></font></td>\n",
       " <td align=\"center\"><font style=\"FONT-SIZE:.75em;\"><!-- DNT -->M<!-- /DNT --> </font></td>\n",
       " <td><font style=\"FONT-SIZE:.75em;\">Intermittent  </font></td>\n",
       " <td><font style=\"FONT-SIZE:.75em;\">Construction Sand and Gravel  </font></td>\n",
       " <th bgcolor=\"#000000\"><input alt=\"More Information\" border=\"0\" name=\"submit\" src=\"/drs/images/moreinfo.jpg\" type=\"image\"/></th></tr>, <tr>\n",
       " <td align=\"center\">\n",
       " <form action=\"/drs/ASP/BasicMineInfostatecounty.asp\" method=\"post\" name=\"search\">\n",
       " <input name=\"MineId\" type=\"hidden\" value=\"2103518\"/><font style=\"FONT-SIZE:.75em;\">2103518</font>\n",
       " </form></td>\n",
       " <td><font style=\"FONT-SIZE:.75em;\"><!-- DNT --><b>MN</b><!-- /DNT --> </font></td>\n",
       " <td><font style=\"FONT-SIZE:.75em;\"><!-- DNT -->Vogt Dirt Service<!-- /DNT -->  </font></td>\n",
       " <td><font style=\"FONT-SIZE:.75em;\"><!-- DNT -->Crusher<!-- /DNT --></font></td>\n",
       " <td align=\"center\"><font style=\"FONT-SIZE:.75em;\"><!-- DNT -->Surface             <!-- /DNT --></font></td>\n",
       " <td align=\"center\"><font style=\"FONT-SIZE:.75em;\"><!-- DNT -->M<!-- /DNT --> </font></td>\n",
       " <td><font style=\"FONT-SIZE:.75em;\">Intermittent  </font></td>\n",
       " <td><font style=\"FONT-SIZE:.75em;\">Construction Sand and Gravel  </font></td>\n",
       " <th bgcolor=\"#000000\"><input alt=\"More Information\" border=\"0\" name=\"submit\" src=\"/drs/images/moreinfo.jpg\" type=\"image\"/></th></tr>, <tr>\n",
       " <td bgcolor=\"#000000\" colspan=\"8\"><font style=\"FONT-SIZE:.75em; color:#FFF\"><b>Total Number of Mines Found:</b>  <b>19</b></font></td></tr>]"
      ]
     },
     "execution_count": 57,
     "metadata": {},
     "output_type": "execute_result"
    }
   ],
   "source": [
    "doc.find_all('tr')"
   ]
  },
  {
   "cell_type": "markdown",
   "metadata": {},
   "source": [
    "### Loop through each operator result, printing its ID\n",
    "\n",
    "There should be ONE code per row, and NO empty rows between them."
   ]
  },
  {
   "cell_type": "code",
   "execution_count": 64,
   "metadata": {},
   "outputs": [
    {
     "name": "stdout",
     "output_type": "stream",
     "text": [
      "\n",
      "\n",
      "3503598\n",
      "\n",
      "\n",
      "\n",
      "4801789\n",
      "\n",
      "\n",
      "\n",
      "5001797\n",
      "\n",
      "\n",
      "\n",
      "4608254\n",
      "\n",
      "\n",
      "\n",
      "2103723\n",
      "\n",
      "\n",
      "\n",
      "4104757\n",
      "\n",
      "\n",
      "\n",
      "0801306\n",
      "\n",
      "\n",
      "\n",
      "3901432\n",
      "\n",
      "\n",
      "\n",
      "3609624\n",
      "\n",
      "\n",
      "\n",
      "3609931\n",
      "\n",
      "\n",
      "\n",
      "1519799\n",
      "\n",
      "\n",
      "\n",
      "4407296\n",
      "\n",
      "\n",
      "\n",
      "4407270\n",
      "\n",
      "\n",
      "\n",
      "0203332\n",
      "\n",
      "\n",
      "\n",
      "2901986\n",
      "\n",
      "\n",
      "\n",
      "4300768\n",
      "\n",
      "\n",
      "\n",
      "4300776\n",
      "\n",
      "\n",
      "\n",
      "2302283\n",
      "\n",
      "\n",
      "\n",
      "2103518\n",
      "\n"
     ]
    }
   ],
   "source": [
    "rows= doc.find_all('tr')\n",
    "for item in rows[7:26]:\n",
    "    ID = item.find_all('td')[0]\n",
    "    print(ID.text)"
   ]
  },
  {
   "cell_type": "markdown",
   "metadata": {},
   "source": [
    "## Saving the results\n",
    "\n",
    "### Loop through each `tr` to create a list of dictionaries\n",
    "\n",
    "Each dictionary must contain\n",
    "\n",
    "- Operator ID\n",
    "- Operator name\n",
    "- Mine name\n",
    "- State\n",
    "- Mine type\n",
    "- Coal or metal\n",
    "- Status\n",
    "- Commodity\n",
    "\n",
    "Create a new dictionary for each row."
   ]
  },
  {
   "cell_type": "code",
   "execution_count": null,
   "metadata": {
    "collapsed": true
   },
   "outputs": [],
   "source": [
    "doc2_=BeautifulSoup(response_.text, 'html.parser')\n",
    "doc2_\n",
    "products = doc.find_all('td')\n",
    "products"
   ]
  },
  {
   "cell_type": "code",
   "execution_count": 85,
   "metadata": {},
   "outputs": [
    {
     "ename": "KeyError",
     "evalue": "'State'",
     "output_type": "error",
     "traceback": [
      "\u001b[0;31m---------------------------------------------------------------------------\u001b[0m",
      "\u001b[0;31mKeyError\u001b[0m                                  Traceback (most recent call last)",
      "\u001b[0;32m<ipython-input-85-89457932c71a>\u001b[0m in \u001b[0;36m<module>\u001b[0;34m()\u001b[0m\n\u001b[1;32m     12\u001b[0m \u001b[0;34m\u001b[0m\u001b[0m\n\u001b[1;32m     13\u001b[0m     \u001b[0mcurrent\u001b[0m\u001b[0;34m[\u001b[0m\u001b[0;34m'ID'\u001b[0m\u001b[0;34m]\u001b[0m\u001b[0;34m:\u001b[0m\u001b[0mID\u001b[0m\u001b[0;34m.\u001b[0m\u001b[0mtext\u001b[0m\u001b[0;34m,\u001b[0m\u001b[0;34m\u001b[0m\u001b[0m\n\u001b[0;32m---> 14\u001b[0;31m     \u001b[0mcurrent\u001b[0m\u001b[0;34m[\u001b[0m\u001b[0;34m'State'\u001b[0m\u001b[0;34m]\u001b[0m\u001b[0;34m:\u001b[0m\u001b[0mstate\u001b[0m\u001b[0;34m.\u001b[0m\u001b[0mtext\u001b[0m\u001b[0;34m,\u001b[0m\u001b[0;34m\u001b[0m\u001b[0m\n\u001b[0m\u001b[1;32m     15\u001b[0m     \u001b[0mcurrent\u001b[0m\u001b[0;34m[\u001b[0m\u001b[0;34m'operator'\u001b[0m\u001b[0;34m]\u001b[0m\u001b[0;34m:\u001b[0m\u001b[0moperator\u001b[0m\u001b[0;34m.\u001b[0m\u001b[0mtext\u001b[0m\u001b[0;34m,\u001b[0m\u001b[0;34m\u001b[0m\u001b[0m\n\u001b[1;32m     16\u001b[0m     \u001b[0mcurrent\u001b[0m\u001b[0;34m[\u001b[0m\u001b[0;34m'mine name'\u001b[0m\u001b[0;34m]\u001b[0m\u001b[0;34m:\u001b[0m\u001b[0mminename\u001b[0m\u001b[0;34m.\u001b[0m\u001b[0mtext\u001b[0m\u001b[0;34m,\u001b[0m\u001b[0;34m\u001b[0m\u001b[0m\n",
      "\u001b[0;31mKeyError\u001b[0m: 'State'"
     ]
    }
   ],
   "source": [
    "info= []\n",
    "for item2 in rows[7:26]:\n",
    "    current= {\n",
    "        \n",
    "    'ID': item.find_all('td')[0],\n",
    "    'State': item.find_all('td')[1],\n",
    "    'operator': item.find_all('td')[2],\n",
    "    'mine name': item.find_all('td')[3],\n",
    "    'CM': item.find_all('td')[4],\n",
    "    'Status': item.find_all('td')[5],\n",
    "    'Commodity': item.find_all('td')[6],\n",
    "        \n",
    "    current['ID']:ID.text,\n",
    "    current['State']:state.text,\n",
    "    current['operator']:operator.text,\n",
    "    current['mine name']:minename.text,\n",
    "    current['CM']:CM.text,\n",
    "    current['Status']:Status.text,\n",
    "    current['Commodity']:Commodity.text,\n",
    "    \n",
    "    }\n",
    "print(info)\n",
    "\n",
    "# info.append(current)"
   ]
  },
  {
   "cell_type": "markdown",
   "metadata": {},
   "source": [
    "### Save that to a CSV"
   ]
  },
  {
   "cell_type": "code",
   "execution_count": null,
   "metadata": {
    "collapsed": true
   },
   "outputs": [],
   "source": [
    "import pandas as pd\n",
    "#use csv for list of dictionaries"
   ]
  },
  {
   "cell_type": "markdown",
   "metadata": {},
   "source": [
    "### Open the CSV file and examine the first few. Make sure you didn't save an extra weird unnamed column."
   ]
  },
  {
   "cell_type": "code",
   "execution_count": null,
   "metadata": {
    "collapsed": true
   },
   "outputs": [],
   "source": [
    "df = pd.DataFrame(doc)\n",
    "df.to_csv(\"mines.csv\" , index = False)\n",
    "df"
   ]
  }
 ],
 "metadata": {
  "kernelspec": {
   "display_name": "Python 3",
   "language": "python",
   "name": "python3"
  },
  "language_info": {
   "codemirror_mode": {
    "name": "ipython",
    "version": 3
   },
   "file_extension": ".py",
   "mimetype": "text/x-python",
   "name": "python",
   "nbconvert_exporter": "python",
   "pygments_lexer": "ipython3",
   "version": "3.6.1"
  }
 },
 "nbformat": 4,
 "nbformat_minor": 2
}
