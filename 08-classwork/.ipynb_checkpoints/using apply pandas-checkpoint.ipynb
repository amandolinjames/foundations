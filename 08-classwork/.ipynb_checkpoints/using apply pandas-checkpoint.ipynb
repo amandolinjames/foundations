{
 "cells": [
  {
   "cell_type": "code",
   "execution_count": 2,
   "metadata": {
    "collapsed": true
   },
   "outputs": [],
   "source": [
    "import pandas as pd"
   ]
  },
  {
   "cell_type": "code",
   "execution_count": 3,
   "metadata": {},
   "outputs": [
    {
     "data": {
      "text/html": [
       "<div>\n",
       "<style>\n",
       "    .dataframe thead tr:only-child th {\n",
       "        text-align: right;\n",
       "    }\n",
       "\n",
       "    .dataframe thead th {\n",
       "        text-align: left;\n",
       "    }\n",
       "\n",
       "    .dataframe tbody tr th {\n",
       "        vertical-align: top;\n",
       "    }\n",
       "</style>\n",
       "<table border=\"1\" class=\"dataframe\">\n",
       "  <thead>\n",
       "    <tr style=\"text-align: right;\">\n",
       "      <th></th>\n",
       "      <th>borough</th>\n",
       "      <th>cats</th>\n",
       "      <th>population</th>\n",
       "    </tr>\n",
       "  </thead>\n",
       "  <tbody>\n",
       "    <tr>\n",
       "      <th>0</th>\n",
       "      <td>Manhattan</td>\n",
       "      <td>107</td>\n",
       "      <td>1400</td>\n",
       "    </tr>\n",
       "    <tr>\n",
       "      <th>1</th>\n",
       "      <td>Brooklyn</td>\n",
       "      <td>205</td>\n",
       "      <td>3412</td>\n",
       "    </tr>\n",
       "    <tr>\n",
       "      <th>2</th>\n",
       "      <td>Bronx</td>\n",
       "      <td>33</td>\n",
       "      <td>323</td>\n",
       "    </tr>\n",
       "  </tbody>\n",
       "</table>\n",
       "</div>"
      ],
      "text/plain": [
       "     borough  cats  population\n",
       "0  Manhattan   107        1400\n",
       "1   Brooklyn   205        3412\n",
       "2      Bronx    33         323"
      ]
     },
     "execution_count": 3,
     "metadata": {},
     "output_type": "execute_result"
    }
   ],
   "source": [
    "df= pd.read_csv(\"boros.csv\")\n",
    "df.head()"
   ]
  },
  {
   "cell_type": "code",
   "execution_count": 6,
   "metadata": {},
   "outputs": [
    {
     "data": {
      "text/html": [
       "<div>\n",
       "<style>\n",
       "    .dataframe thead tr:only-child th {\n",
       "        text-align: right;\n",
       "    }\n",
       "\n",
       "    .dataframe thead th {\n",
       "        text-align: left;\n",
       "    }\n",
       "\n",
       "    .dataframe tbody tr th {\n",
       "        vertical-align: top;\n",
       "    }\n",
       "</style>\n",
       "<table border=\"1\" class=\"dataframe\">\n",
       "  <thead>\n",
       "    <tr style=\"text-align: right;\">\n",
       "      <th></th>\n",
       "      <th>borough</th>\n",
       "      <th>cats</th>\n",
       "      <th>population</th>\n",
       "      <th>cats_per_capita</th>\n",
       "    </tr>\n",
       "  </thead>\n",
       "  <tbody>\n",
       "    <tr>\n",
       "      <th>0</th>\n",
       "      <td>Manhattan</td>\n",
       "      <td>107</td>\n",
       "      <td>1400</td>\n",
       "      <td>0.076429</td>\n",
       "    </tr>\n",
       "    <tr>\n",
       "      <th>1</th>\n",
       "      <td>Brooklyn</td>\n",
       "      <td>205</td>\n",
       "      <td>3412</td>\n",
       "      <td>0.060082</td>\n",
       "    </tr>\n",
       "    <tr>\n",
       "      <th>2</th>\n",
       "      <td>Bronx</td>\n",
       "      <td>33</td>\n",
       "      <td>323</td>\n",
       "      <td>0.102167</td>\n",
       "    </tr>\n",
       "  </tbody>\n",
       "</table>\n",
       "</div>"
      ],
      "text/plain": [
       "     borough  cats  population  cats_per_capita\n",
       "0  Manhattan   107        1400         0.076429\n",
       "1   Brooklyn   205        3412         0.060082\n",
       "2      Bronx    33         323         0.102167"
      ]
     },
     "execution_count": 6,
     "metadata": {},
     "output_type": "execute_result"
    }
   ],
   "source": [
    "df['cats_per_capita']= df['cats']/ df['population']\n",
    "df.head()"
   ]
  },
  {
   "cell_type": "code",
   "execution_count": 7,
   "metadata": {},
   "outputs": [
    {
     "name": "stdout",
     "output_type": "stream",
     "text": [
      "low\n"
     ]
    }
   ],
   "source": [
    "#we want to have it print \"low\" or \"high\" instead of the number\n",
    "cats_per_capita= 0.07\n",
    "if cats_per_capita < 0.10:\n",
    "    print(\"low\")\n",
    "else:\n",
    "    print(\"high\")"
   ]
  },
  {
   "cell_type": "code",
   "execution_count": 8,
   "metadata": {},
   "outputs": [
    {
     "name": "stdout",
     "output_type": "stream",
     "text": [
      "low\n",
      "low\n",
      "high\n"
     ]
    }
   ],
   "source": [
    "cat_pops= [.07, .06, .12]\n",
    "\n",
    "for cat_pop in cat_pops:\n",
    "    if cat_pop< 0.1:\n",
    "        print(\"low\")\n",
    "    else:\n",
    "        print(\"high\")"
   ]
  },
  {
   "cell_type": "code",
   "execution_count": 9,
   "metadata": {},
   "outputs": [
    {
     "data": {
      "text/plain": [
       "5"
      ]
     },
     "execution_count": 9,
     "metadata": {},
     "output_type": "execute_result"
    }
   ],
   "source": [
    "len(\"HELLO\")"
   ]
  },
  {
   "cell_type": "code",
   "execution_count": 10,
   "metadata": {},
   "outputs": [
    {
     "data": {
      "text/plain": [
       "9"
      ]
     },
     "execution_count": 10,
     "metadata": {},
     "output_type": "execute_result"
    }
   ],
   "source": [
    "sum([3, 3, 3])"
   ]
  },
  {
   "cell_type": "code",
   "execution_count": null,
   "metadata": {
    "collapsed": true
   },
   "outputs": [],
   "source": [
    "#RETURNING!!! gives something back "
   ]
  },
  {
   "cell_type": "code",
   "execution_count": 13,
   "metadata": {},
   "outputs": [
    {
     "data": {
      "text/plain": [
       "0    0.076429\n",
       "1    0.060082\n",
       "2    0.102167\n",
       "dtype: float64"
      ]
     },
     "execution_count": 13,
     "metadata": {},
     "output_type": "execute_result"
    }
   ],
   "source": [
    "#this is a FUNCTION\n",
    "#if you give it a row of your dataframe it will give you the number of cats per capita \n",
    "#this is basically like running a for loop, tells dataframe to perform this function on every row \n",
    "#always make what's after cats say ROW \"def cats(row)\"\n",
    "#think about row as a dictionary\n",
    "\n",
    "def cats_per_capita(row):\n",
    "    return row['cats']/ row['population']\n",
    "    \n",
    "df.apply(cats_per_capita, axis= 1)"
   ]
  },
  {
   "cell_type": "code",
   "execution_count": 14,
   "metadata": {},
   "outputs": [
    {
     "name": "stdout",
     "output_type": "stream",
     "text": [
      "I am looking at Manhattan\n",
      "I am looking at Brooklyn\n",
      "I am looking at Bronx\n"
     ]
    },
    {
     "data": {
      "text/plain": [
       "0    0.076429\n",
       "1    0.060082\n",
       "2    0.102167\n",
       "dtype: float64"
      ]
     },
     "execution_count": 14,
     "metadata": {},
     "output_type": "execute_result"
    }
   ],
   "source": [
    "def cats_per_capita(row):\n",
    "    print(\"I am looking at\", row['borough'])\n",
    "    return row['cats']/row['population']\n",
    "df.apply(cats_per_capita, axis= 1)"
   ]
  },
  {
   "cell_type": "code",
   "execution_count": 16,
   "metadata": {},
   "outputs": [
    {
     "name": "stdout",
     "output_type": "stream",
     "text": [
      "I am looking at 1\n",
      "I am looking at 2\n",
      "I am looking at 3\n"
     ]
    }
   ],
   "source": [
    "numbers = [1, 2, 3]\n",
    "for num in numbers:\n",
    "    print(\"I am looking at\", num)"
   ]
  },
  {
   "cell_type": "code",
   "execution_count": 20,
   "metadata": {},
   "outputs": [
    {
     "name": "stdout",
     "output_type": "stream",
     "text": [
      "I am looking at borough            Manhattan\n",
      "cats                     107\n",
      "population              1400\n",
      "cats_per_capita    0.0764286\n",
      "Name: 0, dtype: object\n",
      "-----\n",
      "I am looking at borough             Brooklyn\n",
      "cats                     205\n",
      "population              3412\n",
      "cats_per_capita    0.0600821\n",
      "Name: 1, dtype: object\n",
      "-----\n",
      "I am looking at borough               Bronx\n",
      "cats                     33\n",
      "population              323\n",
      "cats_per_capita    0.102167\n",
      "Name: 2, dtype: object\n",
      "-----\n"
     ]
    },
    {
     "data": {
      "text/plain": [
       "0    None\n",
       "1    None\n",
       "2    None\n",
       "dtype: object"
      ]
     },
     "execution_count": 20,
     "metadata": {},
     "output_type": "execute_result"
    }
   ],
   "source": [
    "def looking_at_something(row):\n",
    "    print(\"I am looking at\", row)\n",
    "    print(\"-----\")\n",
    "    \n",
    "#add axis = 1 to go through each ROW\n",
    "#by default pandas is stupid and goes through each column\n",
    "\n",
    "df.apply(looking_at_something, axis=1)\n"
   ]
  },
  {
   "cell_type": "code",
   "execution_count": 21,
   "metadata": {},
   "outputs": [
    {
     "data": {
      "text/html": [
       "<div>\n",
       "<style>\n",
       "    .dataframe thead tr:only-child th {\n",
       "        text-align: right;\n",
       "    }\n",
       "\n",
       "    .dataframe thead th {\n",
       "        text-align: left;\n",
       "    }\n",
       "\n",
       "    .dataframe tbody tr th {\n",
       "        vertical-align: top;\n",
       "    }\n",
       "</style>\n",
       "<table border=\"1\" class=\"dataframe\">\n",
       "  <thead>\n",
       "    <tr style=\"text-align: right;\">\n",
       "      <th></th>\n",
       "      <th>borough</th>\n",
       "      <th>cats</th>\n",
       "      <th>population</th>\n",
       "      <th>cats_per_capita</th>\n",
       "      <th>cat_words</th>\n",
       "    </tr>\n",
       "  </thead>\n",
       "  <tbody>\n",
       "    <tr>\n",
       "      <th>0</th>\n",
       "      <td>Manhattan</td>\n",
       "      <td>107</td>\n",
       "      <td>1400</td>\n",
       "      <td>0.076429</td>\n",
       "      <td>low</td>\n",
       "    </tr>\n",
       "    <tr>\n",
       "      <th>1</th>\n",
       "      <td>Brooklyn</td>\n",
       "      <td>205</td>\n",
       "      <td>3412</td>\n",
       "      <td>0.060082</td>\n",
       "      <td>low</td>\n",
       "    </tr>\n",
       "    <tr>\n",
       "      <th>2</th>\n",
       "      <td>Bronx</td>\n",
       "      <td>33</td>\n",
       "      <td>323</td>\n",
       "      <td>0.102167</td>\n",
       "      <td>high</td>\n",
       "    </tr>\n",
       "  </tbody>\n",
       "</table>\n",
       "</div>"
      ],
      "text/plain": [
       "     borough  cats  population  cats_per_capita cat_words\n",
       "0  Manhattan   107        1400         0.076429       low\n",
       "1   Brooklyn   205        3412         0.060082       low\n",
       "2      Bronx    33         323         0.102167      high"
      ]
     },
     "execution_count": 21,
     "metadata": {},
     "output_type": "execute_result"
    }
   ],
   "source": [
    "def calculate_cats(row):\n",
    "    if row['cats_per_capita'] < 0.1:\n",
    "        return \"low\"\n",
    "    else:\n",
    "        return \"high\"\n",
    "\n",
    "#You can just put the result into a new column!!!\n",
    "df['cat_words']= df.apply(calculate_cats, axis=1)\n",
    "df.head()"
   ]
  },
  {
   "cell_type": "code",
   "execution_count": null,
   "metadata": {
    "collapsed": true
   },
   "outputs": [],
   "source": [
    "def scrape_some_stuff(row):\n",
    "    print(\"I am about to scrape\", row['borough'])\n",
    "    url= \"http://www.cats.com/population/\" + row['borough']\n",
    "    print(\"Visiting\", url)\n",
    "    print(\"Found some cats with BeautifulSoup\")\n",
    "    print(\"----\"\n",
    "         \n",
    "         )"
   ]
  },
  {
   "cell_type": "code",
   "execution_count": null,
   "metadata": {
    "collapsed": true
   },
   "outputs": [],
   "source": [
    "#so if you have a dataframe you can indent and make it a function "
   ]
  },
  {
   "cell_type": "code",
   "execution_count": 23,
   "metadata": {
    "collapsed": true
   },
   "outputs": [],
   "source": [
    "import time\n",
    "#makes it wait a few seconds before appearing "
   ]
  },
  {
   "cell_type": "code",
   "execution_count": 24,
   "metadata": {},
   "outputs": [
    {
     "name": "stdout",
     "output_type": "stream",
     "text": [
      "Hello\n"
     ]
    }
   ],
   "source": [
    "time.sleep(5)\n",
    "print(\"Hello\")"
   ]
  },
  {
   "cell_type": "code",
   "execution_count": null,
   "metadata": {
    "collapsed": true
   },
   "outputs": [],
   "source": [
    "#SETTING HEADERS\n",
    "\n",
    "def get_headline(row)\n",
    "    print(row)\n",
    "    print(\"----\")\n",
    "    url= "
   ]
  },
  {
   "cell_type": "code",
   "execution_count": null,
   "metadata": {
    "collapsed": true
   },
   "outputs": [],
   "source": [
    "#LEARN HOW TO CONTROL BROWSERS THROUGH PYTHON USING SELENIUM \n",
    "# you have to install pip3 into the terminal first \n",
    "# into the terminal put 'install pip3 selenium'"
   ]
  },
  {
   "cell_type": "code",
   "execution_count": 26,
   "metadata": {},
   "outputs": [],
   "source": [
    "import selenium"
   ]
  },
  {
   "cell_type": "code",
   "execution_count": null,
   "metadata": {
    "collapsed": true
   },
   "outputs": [],
   "source": [
    "#Webdriver\n",
    "#Firefox\n",
    "#Safari \n",
    "#Chrome \n",
    "#you have to make sure you find the python code for selenium because a lot of languages use selenium"
   ]
  }
 ],
 "metadata": {
  "kernelspec": {
   "display_name": "Python 3",
   "language": "python",
   "name": "python3"
  },
  "language_info": {
   "codemirror_mode": {
    "name": "ipython",
    "version": 3
   },
   "file_extension": ".py",
   "mimetype": "text/x-python",
   "name": "python",
   "nbconvert_exporter": "python",
   "pygments_lexer": "ipython3",
   "version": "3.6.1"
  }
 },
 "nbformat": 4,
 "nbformat_minor": 2
}
