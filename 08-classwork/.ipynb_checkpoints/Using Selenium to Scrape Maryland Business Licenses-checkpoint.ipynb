{
 "cells": [
  {
   "cell_type": "markdown",
   "metadata": {},
   "source": [
    "# Scraping Maryland Business Licenses with Selenium\n",
    "\n",
    "Maryland has a [great portal](https://jportal.mdcourts.gov/license/pbPublicSearch.jsp) for searching business licenses, but the only problem is you have to check a box in order to get in.\n",
    "\n",
    "1. Try to visit [the public search page](https://jportal.mdcourts.gov/license/pbPublicSearch.jsp)\n",
    "2. Get redirected to a \"I agree to this\" page. Click that you've read the disclaimer, click Enter the Site.\n",
    "3. Click \"Search License Records\" down at the bottom of the page\n",
    "4. You're now on the search page! From the \"Jurisdiction\" dropdown, select \"Statewide\"\n",
    "5. In the \"Trade Name\" field, type \"Vap%\" to try to find vape shops\n",
    "6. Click \"Next\" in the bottom right-hand corner to go to the next page\n",
    "7. Click \"Click for detail\" to see the details for a specific business license.\n",
    "\n",
    "That's a lot of stuff! **Let's get to work.**"
   ]
  },
  {
   "cell_type": "markdown",
   "metadata": {},
   "source": [
    "## Preparation\n",
    "\n",
    "### When you search for a business license, what URL should Selenium try to visit first?"
   ]
  },
  {
   "cell_type": "code",
   "execution_count": 125,
   "metadata": {
    "collapsed": true
   },
   "outputs": [],
   "source": [
    "from selenium import webdriver"
   ]
  },
  {
   "cell_type": "code",
   "execution_count": 126,
   "metadata": {
    "collapsed": true
   },
   "outputs": [],
   "source": [
    "driver= webdriver.Chrome()"
   ]
  },
  {
   "cell_type": "code",
   "execution_count": 71,
   "metadata": {
    "collapsed": true
   },
   "outputs": [],
   "source": [
    "doc= driver.get(\"https://jportal.mdcourts.gov/license/pbSearchResult.jsp?slcJurisdiction=50&txtTradeName=vap%25&txtOwnerName=&txtLocationStreetName=&slcYear=2017&slcSortBy=ownername\")"
   ]
  },
  {
   "cell_type": "code",
   "execution_count": null,
   "metadata": {
    "collapsed": true
   },
   "outputs": [],
   "source": [
    "import BeautifulSoup"
   ]
  },
  {
   "cell_type": "markdown",
   "metadata": {},
   "source": [
    "**It isn't going to work, though! It's going to redirect to that intro page.** You can use *Incognito mode* to go back through the \"Check the box, etc\" series of pages.\n",
    "\n",
    "### How will you identify the checkbox to check it?\n",
    "\n",
    "Selenium can find elements by:\n",
    "\n",
    "- name\n",
    "- Class\n",
    "- ID\n",
    "- CSS selector (**ASK ME WHAT THIS IS** if you don't know)\n",
    "- XPath (**ASK ME WHAT THIS IS** because you definitely don't know)\n",
    "- Link text\n",
    "- Partial link text\n",
    "\n",
    "So in other words, what's unique about this element?\n",
    "\n",
    "- *TIP: I have a secret awesome way to do this, but you have to ask.*"
   ]
  },
  {
   "cell_type": "code",
   "execution_count": 50,
   "metadata": {
    "collapsed": true
   },
   "outputs": [],
   "source": [
    "#to type enter\n",
    "from selenium.webdriver.common.keys import Keys\n",
    "element= driver.find_element_by_xpath('//*[@id=\"checkbox\"]')\n",
    "element.click()\n",
    "\n",
    "\n",
    "# #to use a select:\n",
    "# from selenium.webdriver.support.ui import Select\n",
    "\n",
    "# select= Select(driver.find_element_by_name('phy_city'))\n",
    "# select.select_by_visible_text('Houston')"
   ]
  },
  {
   "cell_type": "markdown",
   "metadata": {},
   "source": [
    "### How will you identify the button to select it, or the form to submit it?\n",
    "\n",
    "Selenium can submit forms by either\n",
    "\n",
    "- Selecting the form and using `.submit()`, or\n",
    "- Selecting the button and using `.click()`\n",
    "\n",
    "You only need to be able to get **one, not both.**"
   ]
  },
  {
   "cell_type": "code",
   "execution_count": 51,
   "metadata": {
    "collapsed": true
   },
   "outputs": [],
   "source": [
    "element= driver.find_element_by_xpath('/html/body/table/tbody/tr[7]/td/form/div/input[2]')\n",
    "element.click()"
   ]
  },
  {
   "cell_type": "markdown",
   "metadata": {},
   "source": [
    "### Once you're on the next page, how will you click the \"SEARCH LICENSE RECORDS\" link or follow its URL?"
   ]
  },
  {
   "cell_type": "code",
   "execution_count": 52,
   "metadata": {
    "collapsed": true
   },
   "outputs": [],
   "source": [
    "element= driver.find_element_by_xpath('/html/body/table[2]/tbody/tr[6]/td[2]/a[2]')\n",
    "element.click()"
   ]
  },
  {
   "cell_type": "markdown",
   "metadata": {},
   "source": [
    "### Now you're on the form page. How do you pick \"Statewide\" for the jurisdiction dropdown?"
   ]
  },
  {
   "cell_type": "code",
   "execution_count": 53,
   "metadata": {
    "collapsed": true
   },
   "outputs": [],
   "source": [
    "from selenium.webdriver.support.ui import Select\n",
    "\n",
    "select= Select(driver.find_element_by_name('slcJurisdiction'))\n",
    "# select= Select(select)\n",
    "select.select_by_visible_text('Statewide')"
   ]
  },
  {
   "cell_type": "markdown",
   "metadata": {},
   "source": [
    "### How do you type \"vap%\" into the Trade Name field?"
   ]
  },
  {
   "cell_type": "code",
   "execution_count": 54,
   "metadata": {
    "collapsed": true
   },
   "outputs": [],
   "source": [
    "# from selenium.webdriver.common.keys. import Keys\n",
    "# element= driver.find_element_by_class_name(\"q\")\n",
    "\n",
    "\n",
    "element= driver.find_element_by_xpath('//*[@id=\"txtTradeName\"]')\n",
    "element.send_keys('vap%')\n",
    "# element.send_keys('RETURN')\n",
    "#send keys and include a string "
   ]
  },
  {
   "cell_type": "markdown",
   "metadata": {},
   "source": [
    "### How do you click the submit button or submit the form?"
   ]
  },
  {
   "cell_type": "code",
   "execution_count": 55,
   "metadata": {
    "collapsed": true
   },
   "outputs": [],
   "source": [
    "element= driver.find_element_by_xpath('/html/body/table[2]/tbody/tr[4]/td[2]/form/table/tbody/tr[14]/td/input[1]')\n",
    "element.click()"
   ]
  },
  {
   "cell_type": "markdown",
   "metadata": {},
   "source": [
    "### How can you find and click the 'Next' button on the search results page?"
   ]
  },
  {
   "cell_type": "code",
   "execution_count": 72,
   "metadata": {
    "collapsed": true
   },
   "outputs": [],
   "source": [
    "#use a while loop python, google while loop python\n",
    "#count = 0\n",
    "#while(count<9):\n",
    "#     print 'the count is:', count\n",
    "#     count= count + 1\n",
    "    #keep adding one and increasing the nine until it works\n",
    "\n",
    "# count=0\n",
    "#while True:\n",
    "#     count= count+1\n",
    "#doc= BeautifulSoup(driver.page_source, 'html.parser')\n",
    "# element= driver.find_element_by_xpath('/html/body/table[2]/tbody/tr[4]/td[2]/table[2]/tbody/tr/td[3]/a/nobr')\n",
    "# element.click()"
   ]
  },
  {
   "cell_type": "markdown",
   "metadata": {},
   "source": [
    "# Okay, let's scrape!\n",
    "\n",
    "### Use Selenium to search for vape shops statewide, and then click through until it reaches the last page.\n",
    "\n",
    "Don't scrape yet!"
   ]
  },
  {
   "cell_type": "code",
   "execution_count": 57,
   "metadata": {
    "collapsed": true
   },
   "outputs": [],
   "source": [
    "#get every cell\n",
    "#for click for detail cell get the link url"
   ]
  },
  {
   "cell_type": "markdown",
   "metadata": {},
   "source": [
    "### Use Selenium to scrape the first page of search results for vape shops statewide (well, we'll try).\n",
    "\n",
    "- *TIP: You can find elements/text using Selenium, or use BeautifulSoup with `doc = BeautifulSoup(driver.page_source)`*\n",
    "\n",
    "I've included some BeautifulSoup code that might be helpful. If you use it, **ask me how I made it.** It's important."
   ]
  },
  {
   "cell_type": "code",
   "execution_count": 105,
   "metadata": {
    "collapsed": true
   },
   "outputs": [],
   "source": [
    "# # Find everything with a class of \"searchfieldtitle\" using BeautifulSoup\n",
    "# business_headers = doc.find_all(class_='searchfieldtitle')\n",
    "from bs4 import BeautifulSoup\n",
    "# # The same thing but with selenium\n",
    "# business_headers = driver.find_elements_by_class_name(\"searchfieldtitle\")"
   ]
  },
  {
   "cell_type": "code",
   "execution_count": 121,
   "metadata": {},
   "outputs": [
    {
     "data": {
      "text/plain": [
       "[<tr class=\"searchfieldtitle\">\n",
       " <td class=\"searchlistnumber\">1.</td>\n",
       " <td class=\"searchlistitem\"><span class=\"copybold\">VAPE IT STORE I</span></td>\n",
       " <td><a href=\"pbLicenseDetail.jsp?owi=%2FXTjgIZIA0g%3D\"><img alt=\"Click for Detail of VAPE IT STORE I\" src=\"images/link_click-detail.gif\"/></a></td>\n",
       " </tr>, <tr class=\"searchfieldtitle\">\n",
       " <td class=\"searchlistnumber\">2.</td>\n",
       " <td class=\"searchlistitem\"><span class=\"copybold\">VAPE IT STORE II</span></td>\n",
       " <td><a href=\"pbLicenseDetail.jsp?owi=F730RtJl%2FqU%3D\"><img alt=\"Click for Detail of VAPE IT STORE II\" src=\"images/link_click-detail.gif\"/></a></td>\n",
       " </tr>, <tr class=\"searchfieldtitle\">\n",
       " <td class=\"searchlistnumber\">3.</td>\n",
       " <td class=\"searchlistitem\"><span class=\"copybold\">VAPEPAD THE</span></td>\n",
       " <td><a href=\"pbLicenseDetail.jsp?owi=ecUSuE2YceA%3D\"><img alt=\"Click for Detail of VAPEPAD THE\" src=\"images/link_click-detail.gif\"/></a></td>\n",
       " </tr>, <tr class=\"searchfieldtitle\">\n",
       " <td class=\"searchlistnumber\">4.</td>\n",
       " <td class=\"searchlistitem\"><span class=\"copybold\">VAPE FROG</span></td>\n",
       " <td><a href=\"pbLicenseDetail.jsp?owi=zeO6cp%2BZ12o%3D\"><img alt=\"Click for Detail of VAPE FROG\" src=\"images/link_click-detail.gif\"/></a></td>\n",
       " </tr>, <tr class=\"searchfieldtitle\">\n",
       " <td class=\"searchlistnumber\">5.</td>\n",
       " <td class=\"searchlistitem\"><span class=\"copybold\">VAPE FROG</span></td>\n",
       " <td>Pending <span class=\"searchlistred\">*</span></td>\n",
       " </tr>]"
      ]
     },
     "execution_count": 121,
     "metadata": {},
     "output_type": "execute_result"
    }
   ],
   "source": [
    "# # IF YOU ARE USING BEAUTIFULSOUP, HERE IS SOME SAMPLE CODE\n",
    "# # IF YOU USE THIS CODE, ASK ME HOW I MADE IT. IT'S IMPORTANT.\n",
    "doc= BeautifulSoup(driver.page_source, 'html.parser')\n",
    "business_headers = doc.find_all('tr',class_='searchfieldtitle')\n",
    "business_headers\n",
    "\n",
    "# business_headers = driver.find_elements_by_class_name(\"searchfieldtitle\")\n",
    "# business_headers[0].text\n",
    "\n",
    "# for business in business_headers:\n",
    "#     print(business.text.strip())\n",
    "# # len(business_headers)"
   ]
  },
  {
   "cell_type": "code",
   "execution_count": 123,
   "metadata": {},
   "outputs": [
    {
     "name": "stdout",
     "output_type": "stream",
     "text": [
      "HEADER is 1.\n",
      "VAPE IT STORE I\n",
      "ROW 0 IS AMIN NARGIS\n",
      "Lic. Status: Issued\n",
      "ROW 1 IS 1724 N SALISBURY BLVD UNIT 2\n",
      "License: 22173807\n",
      "ROW 2 IS SALISBURY, MD 21801\n",
      "Issued Date: 4/27/2017\n",
      "ROW 3 IS Wicomico County\n",
      "----\n",
      "HEADER is 2.\n",
      "VAPE IT STORE II\n",
      "ROW 0 IS AMIN NARGIS\n",
      "Lic. Status: Issued\n",
      "ROW 1 IS 1015 S SALISBURY BLVD\n",
      "License: 22173808\n",
      "ROW 2 IS SALISBURY, MD 21801\n",
      "Issued Date: 4/27/2017\n",
      "ROW 3 IS Wicomico County\n",
      "----\n",
      "HEADER is 3.\n",
      "VAPEPAD THE\n",
      "ROW 0 IS ANJ DISTRIBUTIONS LLC\n",
      "Lic. Status: Issued\n",
      "ROW 1 IS 2299 JOHNS HOPKINS ROAD\n",
      "License: 02104436\n",
      "ROW 2 IS GAMBRILLS, MD 21054\n",
      "Issued Date: 4/05/2017\n",
      "ROW 3 IS Anne Arundel County\n",
      "----\n",
      "HEADER is 4.\n",
      "VAPE FROG\n",
      "ROW 0 IS COX TRADING COMPANY L L C\n",
      "Lic. Status: Issued\n",
      "ROW 1 IS 110 S. PINEY RD\n",
      "License: 17165957\n",
      "ROW 2 IS CHESTER, MD 21619\n",
      "Issued Date: 5/31/2017\n",
      "ROW 3 IS Queen Anne's County\n",
      "----\n",
      "HEADER is 5.\n",
      "VAPE FROG\n",
      "Pending *\n",
      "ROW 0 IS COX TRADING LLC\n",
      "Lic. Status: Pending\n",
      "ROW 1 IS 346 RITCHIE HIGHWAY\n",
      "ROW 2 IS SEVERNA PARK, MD 21146\n",
      "ROW 3 IS Anne Arundel County\n",
      "----\n"
     ]
    }
   ],
   "source": [
    "# # You'll probably need to find specific tds inside\n",
    "# # of the rows instead of looking at the whole thing.\n",
    "\n",
    "dict_list = []\n",
    "    \n",
    "for header in business_headers:\n",
    "    rows = header.find_next_siblings('tr')\n",
    "    \n",
    "    dictionary = {}\n",
    "    \n",
    "    print(\"HEADER is\", header.text.strip())\n",
    "    print(\"ROW 0 IS\", rows[0].text.strip())\n",
    "    print(\"ROW 1 IS\", rows[1].text.strip())\n",
    "    print(\"ROW 2 IS\", rows[2].text.strip())\n",
    "    print(\"ROW 3 IS\", rows[3].text.strip())\n",
    "    print(\"----\")\n",
    "    \n",
    "    dictionary['sr_no'] = header.text.strip()\n",
    "    dictionary['name'] = rows[0].text.strip()\n",
    "    dictionary['lic_status'] = rows[1].text.strip()\n",
    "    dictionary['address'] = rows[2].text.strip()\n",
    "    dictionary['lic_no'] = rows[3].text.strip()\n",
    "    \n",
    "    dict_list.append(dictionary)\n",
    "    \n",
    "\n",
    "# business= driver.find_element_by_class_name(\"story-heading\")"
   ]
  },
  {
   "cell_type": "code",
   "execution_count": 124,
   "metadata": {},
   "outputs": [
    {
     "data": {
      "text/plain": [
       "[{'address': 'SALISBURY, MD 21801\\nIssued Date: 4/27/2017',\n",
       "  'lic_no': 'Wicomico County',\n",
       "  'lic_status': '1724 N SALISBURY BLVD UNIT 2\\nLicense: 22173807',\n",
       "  'name': 'AMIN NARGIS\\nLic. Status: Issued',\n",
       "  'sr_no': '1.\\nVAPE IT STORE I'},\n",
       " {'address': 'SALISBURY, MD 21801\\nIssued Date: 4/27/2017',\n",
       "  'lic_no': 'Wicomico County',\n",
       "  'lic_status': '1015 S SALISBURY BLVD\\nLicense: 22173808',\n",
       "  'name': 'AMIN NARGIS\\nLic. Status: Issued',\n",
       "  'sr_no': '2.\\nVAPE IT STORE II'},\n",
       " {'address': 'GAMBRILLS, MD 21054\\nIssued Date: 4/05/2017',\n",
       "  'lic_no': 'Anne Arundel County',\n",
       "  'lic_status': '2299 JOHNS HOPKINS ROAD\\nLicense: 02104436',\n",
       "  'name': 'ANJ DISTRIBUTIONS LLC\\nLic. Status: Issued',\n",
       "  'sr_no': '3.\\nVAPEPAD THE'},\n",
       " {'address': 'CHESTER, MD 21619\\nIssued Date: 5/31/2017',\n",
       "  'lic_no': \"Queen Anne's County\",\n",
       "  'lic_status': '110 S. PINEY RD\\nLicense: 17165957',\n",
       "  'name': 'COX TRADING COMPANY L L C\\nLic. Status: Issued',\n",
       "  'sr_no': '4.\\nVAPE FROG'},\n",
       " {'address': 'SEVERNA PARK, MD 21146',\n",
       "  'lic_no': 'Anne Arundel County',\n",
       "  'lic_status': '346 RITCHIE HIGHWAY',\n",
       "  'name': 'COX TRADING LLC\\nLic. Status: Pending',\n",
       "  'sr_no': '5.\\nVAPE FROG\\nPending *'}]"
      ]
     },
     "execution_count": 124,
     "metadata": {},
     "output_type": "execute_result"
    }
   ],
   "source": [
    "dict_list"
   ]
  },
  {
   "cell_type": "markdown",
   "metadata": {},
   "source": [
    "### Save these into `vape-results.csv`"
   ]
  },
  {
   "cell_type": "code",
   "execution_count": null,
   "metadata": {
    "collapsed": true
   },
   "outputs": [],
   "source": [
    "import pandas as pd"
   ]
  },
  {
   "cell_type": "code",
   "execution_count": null,
   "metadata": {
    "collapsed": true
   },
   "outputs": [],
   "source": [
    "df.to_csv('saved_file.csv')"
   ]
  },
  {
   "cell_type": "code",
   "execution_count": null,
   "metadata": {
    "collapsed": true
   },
   "outputs": [],
   "source": [
    "while True:\n",
    "  try:\n",
    "    # Hey, to get that link and click it\n",
    "    \n",
    "    driver.get_the_thing(\"Next\").click()\n",
    "  except:\n",
    "    # Oh did you get an error? Exit the while loop\n",
    "    break"
   ]
  },
  {
   "cell_type": "code",
   "execution_count": null,
   "metadata": {
    "collapsed": true
   },
   "outputs": [],
   "source": []
  },
  {
   "cell_type": "code",
   "execution_count": 122,
   "metadata": {},
   "outputs": [
    {
     "ename": "IndentationError",
     "evalue": "unindent does not match any outer indentation level (<tokenize>, line 19)",
     "output_type": "error",
     "traceback": [
      "\u001b[0;36m  File \u001b[0;32m\"<tokenize>\"\u001b[0;36m, line \u001b[0;32m19\u001b[0m\n\u001b[0;31m    try:\u001b[0m\n\u001b[0m    ^\u001b[0m\n\u001b[0;31mIndentationError\u001b[0m\u001b[0;31m:\u001b[0m unindent does not match any outer indentation level\n"
     ]
    }
   ],
   "source": [
    "#look at homework 3 and 4, NYT\n",
    "\n",
    "business= []\n",
    "\n",
    "while True: \n",
    "     for business in licenses:\n",
    "        rows = business.find_next_siblings('tr')\n",
    "        licenses: {}\n",
    "        HEADER= header.text.strip(), \n",
    "        ROW 0= rows[0].text.strip(),\n",
    "        ROW 1= rows[1].text.strip(),\n",
    "        ROW 2= rows[2].text.strip(),\n",
    "        ROW 3= rows[3].text.strip(),\n",
    "        licenses['HEADER']= HEADER.text\n",
    "        licenses['ROW 0']= ROW.text\n",
    "        licenses['ROW 1']= ROW1.text\n",
    "        licenses['ROW 2']= ROW2.text\n",
    "        licenses['ROW 3']=ROW3.text      \n",
    "    try:\n",
    "        driver.get_the_thing(\"Next\").click()\n",
    "    except:\n",
    "        break \n",
    "\n",
    "    \n",
    "info.append"
   ]
  },
  {
   "cell_type": "markdown",
   "metadata": {},
   "source": [
    "### Open `vape-results.csv` to make sure there aren't any extra weird columns"
   ]
  },
  {
   "cell_type": "code",
   "execution_count": null,
   "metadata": {
    "collapsed": true
   },
   "outputs": [],
   "source": [
    "df = pd.DataFrame(cases)\n",
    "df.to_csv(\"cases.csv\" , index = False)\n",
    "df"
   ]
  },
  {
   "cell_type": "markdown",
   "metadata": {},
   "source": [
    "## Use Selenium to scrape ALL pages of results, save the results into `vape-results-all.csv`."
   ]
  },
  {
   "cell_type": "code",
   "execution_count": null,
   "metadata": {
    "collapsed": true
   },
   "outputs": [],
   "source": []
  },
  {
   "cell_type": "code",
   "execution_count": null,
   "metadata": {
    "collapsed": true
   },
   "outputs": [],
   "source": []
  },
  {
   "cell_type": "markdown",
   "metadata": {},
   "source": [
    "### Function"
   ]
  },
  {
   "cell_type": "code",
   "execution_count": null,
   "metadata": {
    "collapsed": true
   },
   "outputs": [],
   "source": []
  }
 ],
 "metadata": {
  "kernelspec": {
   "display_name": "Python 3",
   "language": "python",
   "name": "python3"
  },
  "language_info": {
   "codemirror_mode": {
    "name": "ipython",
    "version": 3
   },
   "file_extension": ".py",
   "mimetype": "text/x-python",
   "name": "python",
   "nbconvert_exporter": "python",
   "pygments_lexer": "ipython3",
   "version": "3.6.1"
  }
 },
 "nbformat": 4,
 "nbformat_minor": 2
}
